{
 "cells": [
  {
   "cell_type": "markdown",
   "metadata": {},
   "source": [
    "# Create Model\n",
    "\n",
    "Using some of the findings from the `eda` section, let's try and do some modeling to check our results.\n",
    "\n",
    "### Procedural Overview\n",
    "\n",
    "First, we'll split our data into train / val / test sets of about 70% / 15% / 15%. Next, we'll do some preprocessing using the findings from our `eda` files, and then use `SMOTE` to deal with class imbalance. Then, we'll build out models using 5-fold cross-validation, and will tweak the threshold such that our precision (proportion of predictions that were actually true) is about 80%, and then see if this holds true with our validation set, and then our test set."
   ]
  },
  {
   "cell_type": "code",
   "execution_count": 2,
   "metadata": {},
   "outputs": [],
   "source": [
    "# Modules\n",
    "import numpy as np\n",
    "import pandas as pd\n",
    "import os\n",
    "from pathlib import Path\n",
    "from xgboost import XGBClassifier\n",
    "import random\n",
    "from imblearn.over_sampling import SMOTE\n",
    "from sklearn.metrics import ConfusionMatrixDisplay, classification_report\n",
    "from utils import impute_cols\n"
   ]
  },
  {
   "cell_type": "code",
   "execution_count": null,
   "metadata": {},
   "outputs": [],
   "source": [
    "# Data\n",
    "raw_data = pd.read_csv(Path(os.getcwd()).parents[0].joinpath(\"data\", \"Lead Scoring.csv\"))"
   ]
  },
  {
   "cell_type": "markdown",
   "metadata": {},
   "source": [
    "## Data Prep"
   ]
  },
  {
   "cell_type": "code",
   "execution_count": null,
   "metadata": {},
   "outputs": [],
   "source": []
  },
  {
   "cell_type": "markdown",
   "metadata": {},
   "source": [
    "## Data Preprocessing\n",
    "\n",
    "Now, apply some data preprocessing from our previous findings. TODO: Because we'll be \n",
    "\n"
   ]
  }
 ],
 "metadata": {
  "kernelspec": {
   "display_name": "venv",
   "language": "python",
   "name": "python3"
  },
  "language_info": {
   "codemirror_mode": {
    "name": "ipython",
    "version": 3
   },
   "file_extension": ".py",
   "mimetype": "text/x-python",
   "name": "python",
   "nbconvert_exporter": "python",
   "pygments_lexer": "ipython3",
   "version": "3.10.10"
  },
  "orig_nbformat": 4
 },
 "nbformat": 4,
 "nbformat_minor": 2
}
