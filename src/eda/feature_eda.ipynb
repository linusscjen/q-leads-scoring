{
 "cells": [
  {
   "cell_type": "markdown",
   "metadata": {},
   "source": [
    "# Feature Exploration\n",
    "\n",
    "Given the [Kaggle Dataset on Lead Scoring](https://www.kaggle.com/datasets/amritachatterjee09/lead-scoring-dataset?select=Lead+Scoring.csv), I will first do some general EDA to discover potential trends within the data to determine possible next steps.\n",
    "\n",
    "From the Kaggle site, X Education is education company selling online courses to industry professionals. The typical conversion rate is ~30%. The goal is to increase the conversion rate, with the CEO hoping to achieve a lead conversion rate of about 80%. Our task is to assign a lead score to each of the leads such that the customers with higher lead score *h* have a higher conversion chance (IE create a propensity score)."
   ]
  },
  {
   "cell_type": "code",
   "execution_count": 1,
   "metadata": {},
   "outputs": [],
   "source": [
    "# Modules\n",
    "import numpy as np\n",
    "import pandas as pd\n",
    "from pathlib import Path\n",
    "import os\n",
    "from ydata_profiling import ProfileReport"
   ]
  },
  {
   "cell_type": "code",
   "execution_count": 2,
   "metadata": {},
   "outputs": [],
   "source": [
    "# Pull in data\n",
    "raw_data = pd.read_csv(Path(os.getcwd()).parents[0].joinpath(\"data\", \"Lead Scoring.csv\"))"
   ]
  },
  {
   "cell_type": "markdown",
   "metadata": {},
   "source": [
    "# General EDA\n",
    "\n",
    "Clearly, the goal of this exercise is to increase the conversion rate, making the `Converted` column our target variable.\n",
    "\n",
    "To get a clear picture of how variables might relate to one another, I will be using the `ProfileReport` function to create an HTML page summarizing distributions, correlations, and other measures."
   ]
  },
  {
   "cell_type": "code",
   "execution_count": null,
   "metadata": {},
   "outputs": [],
   "source": [
    "# Use ProfileReport to create HTML doc of general summary\n",
    "profile = ProfileReport(raw_data, title = \"Profiling Report\")\n",
    "profile.to_file(\"feature_eda.html\")"
   ]
  },
  {
   "cell_type": "code",
   "execution_count": 5,
   "metadata": {},
   "outputs": [
    {
     "name": "stdout",
     "output_type": "stream",
     "text": [
      "Index(['Prospect ID', 'Lead Number', 'Lead Origin', 'Lead Source',\n",
      "       'Do Not Email', 'Do Not Call', 'Converted', 'TotalVisits',\n",
      "       'Total Time Spent on Website', 'Page Views Per Visit', 'Last Activity',\n",
      "       'Country', 'Specialization', 'How did you hear about X Education',\n",
      "       'What is your current occupation',\n",
      "       'What matters most to you in choosing a course', 'Search', 'Magazine',\n",
      "       'Newspaper Article', 'X Education Forums', 'Newspaper',\n",
      "       'Digital Advertisement', 'Through Recommendations',\n",
      "       'Receive More Updates About Our Courses', 'Tags', 'Lead Quality',\n",
      "       'Update me on Supply Chain Content', 'Get updates on DM Content',\n",
      "       'Lead Profile', 'City', 'Asymmetrique Activity Index',\n",
      "       'Asymmetrique Profile Index', 'Asymmetrique Activity Score',\n",
      "       'Asymmetrique Profile Score',\n",
      "       'I agree to pay the amount through cheque',\n",
      "       'A free copy of Mastering The Interview', 'Last Notable Activity'],\n",
      "      dtype='object')\n",
      "<bound method NDFrame.describe of                                Prospect ID  Lead Number  \\\n",
      "0     7927b2df-8bba-4d29-b9a2-b6e0beafe620       660737   \n",
      "1     2a272436-5132-4136-86fa-dcc88c88f482       660728   \n",
      "2     8cc8c611-a219-4f35-ad23-fdfd2656bd8a       660727   \n",
      "3     0cc2df48-7cf4-4e39-9de9-19797f9b38cc       660719   \n",
      "4     3256f628-e534-4826-9d63-4a8b88782852       660681   \n",
      "...                                    ...          ...   \n",
      "9235  19d6451e-fcd6-407c-b83b-48e1af805ea9       579564   \n",
      "9236  82a7005b-7196-4d56-95ce-a79f937a158d       579546   \n",
      "9237  aac550fe-a586-452d-8d3c-f1b62c94e02c       579545   \n",
      "9238  5330a7d1-2f2b-4df4-85d6-64ca2f6b95b9       579538   \n",
      "9239  571b5c8e-a5b2-4d57-8574-f2ffb06fdeff       579533   \n",
      "\n",
      "                  Lead Origin     Lead Source Do Not Email Do Not Call  \\\n",
      "0                         API      Olark Chat           No          No   \n",
      "1                         API  Organic Search           No          No   \n",
      "2     Landing Page Submission  Direct Traffic           No          No   \n",
      "3     Landing Page Submission  Direct Traffic           No          No   \n",
      "4     Landing Page Submission          Google           No          No   \n",
      "...                       ...             ...          ...         ...   \n",
      "9235  Landing Page Submission  Direct Traffic          Yes          No   \n",
      "9236  Landing Page Submission  Direct Traffic           No          No   \n",
      "9237  Landing Page Submission  Direct Traffic          Yes          No   \n",
      "9238  Landing Page Submission          Google           No          No   \n",
      "9239  Landing Page Submission  Direct Traffic           No          No   \n",
      "\n",
      "      Converted  TotalVisits  Total Time Spent on Website  \\\n",
      "0             0          0.0                            0   \n",
      "1             0          5.0                          674   \n",
      "2             1          2.0                         1532   \n",
      "3             0          1.0                          305   \n",
      "4             1          2.0                         1428   \n",
      "...         ...          ...                          ...   \n",
      "9235          1          8.0                         1845   \n",
      "9236          0          2.0                          238   \n",
      "9237          0          2.0                          199   \n",
      "9238          1          3.0                          499   \n",
      "9239          1          6.0                         1279   \n",
      "\n",
      "      Page Views Per Visit  ... Get updates on DM Content    Lead Profile  \\\n",
      "0                     0.00  ...                        No          Select   \n",
      "1                     2.50  ...                        No          Select   \n",
      "2                     2.00  ...                        No  Potential Lead   \n",
      "3                     1.00  ...                        No          Select   \n",
      "4                     1.00  ...                        No          Select   \n",
      "...                    ...  ...                       ...             ...   \n",
      "9235                  2.67  ...                        No  Potential Lead   \n",
      "9236                  2.00  ...                        No  Potential Lead   \n",
      "9237                  2.00  ...                        No  Potential Lead   \n",
      "9238                  3.00  ...                        No             NaN   \n",
      "9239                  3.00  ...                        No  Potential Lead   \n",
      "\n",
      "                    City Asymmetrique Activity Index  \\\n",
      "0                 Select                   02.Medium   \n",
      "1                 Select                   02.Medium   \n",
      "2                 Mumbai                   02.Medium   \n",
      "3                 Mumbai                   02.Medium   \n",
      "4                 Mumbai                   02.Medium   \n",
      "...                  ...                         ...   \n",
      "9235              Mumbai                   02.Medium   \n",
      "9236              Mumbai                   02.Medium   \n",
      "9237              Mumbai                   02.Medium   \n",
      "9238  Other Metro Cities                   02.Medium   \n",
      "9239        Other Cities                   02.Medium   \n",
      "\n",
      "     Asymmetrique Profile Index Asymmetrique Activity Score  \\\n",
      "0                     02.Medium                        15.0   \n",
      "1                     02.Medium                        15.0   \n",
      "2                       01.High                        14.0   \n",
      "3                       01.High                        13.0   \n",
      "4                       01.High                        15.0   \n",
      "...                         ...                         ...   \n",
      "9235                    01.High                        15.0   \n",
      "9236                    01.High                        14.0   \n",
      "9237                    01.High                        13.0   \n",
      "9238                  02.Medium                        15.0   \n",
      "9239                    01.High                        15.0   \n",
      "\n",
      "     Asymmetrique Profile Score I agree to pay the amount through cheque  \\\n",
      "0                          15.0                                       No   \n",
      "1                          15.0                                       No   \n",
      "2                          20.0                                       No   \n",
      "3                          17.0                                       No   \n",
      "4                          18.0                                       No   \n",
      "...                         ...                                      ...   \n",
      "9235                       17.0                                       No   \n",
      "9236                       19.0                                       No   \n",
      "9237                       20.0                                       No   \n",
      "9238                       16.0                                       No   \n",
      "9239                       18.0                                       No   \n",
      "\n",
      "     A free copy of Mastering The Interview Last Notable Activity  \n",
      "0                                        No              Modified  \n",
      "1                                        No          Email Opened  \n",
      "2                                       Yes          Email Opened  \n",
      "3                                        No              Modified  \n",
      "4                                        No              Modified  \n",
      "...                                     ...                   ...  \n",
      "9235                                     No     Email Marked Spam  \n",
      "9236                                    Yes              SMS Sent  \n",
      "9237                                    Yes              SMS Sent  \n",
      "9238                                     No              SMS Sent  \n",
      "9239                                    Yes              Modified  \n",
      "\n",
      "[9240 rows x 37 columns]>\n"
     ]
    }
   ],
   "source": [
    "print(raw_data.columns)"
   ]
  },
  {
   "cell_type": "code",
   "execution_count": null,
   "metadata": {},
   "outputs": [],
   "source": []
  }
 ],
 "metadata": {
  "kernelspec": {
   "display_name": "venv",
   "language": "python",
   "name": "python3"
  },
  "language_info": {
   "codemirror_mode": {
    "name": "ipython",
    "version": 3
   },
   "file_extension": ".py",
   "mimetype": "text/x-python",
   "name": "python",
   "nbconvert_exporter": "python",
   "pygments_lexer": "ipython3",
   "version": "3.10.10"
  },
  "orig_nbformat": 4
 },
 "nbformat": 4,
 "nbformat_minor": 2
}
