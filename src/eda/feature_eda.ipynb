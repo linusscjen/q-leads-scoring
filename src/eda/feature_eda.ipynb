{
 "cells": [
  {
   "cell_type": "markdown",
   "metadata": {},
   "source": [
    "# Feature Exploration\n",
    "\n",
    "Given the [Kaggle Dataset on Lead Scoring](https://www.kaggle.com/datasets/amritachatterjee09/lead-scoring-dataset?select=Lead+Scoring.csv), I will first do some general EDA to discover potential trends within the data to determine possible next steps.\n",
    "\n",
    "From the Kaggle site, X Education is education company selling online courses to industry professionals. The typical conversion rate is ~30%. The goal is to increase the conversion rate, with the CEO hoping to achieve a lead conversion rate of about 80%. Our task is to assign a lead score to each of the leads such that the customers with higher lead score *h* have a higher conversion chance (IE create a propensity score)."
   ]
  },
  {
   "cell_type": "code",
   "execution_count": 6,
   "metadata": {},
   "outputs": [],
   "source": [
    "# Modules\n",
    "import numpy as np\n",
    "import pandas as pd\n",
    "from pathlib import Path\n",
    "import os\n",
    "from ydata_profiling import ProfileReport"
   ]
  },
  {
   "cell_type": "code",
   "execution_count": 7,
   "metadata": {},
   "outputs": [],
   "source": [
    "# Pull in data\n",
    "raw_data = pd.read_csv(Path(os.getcwd()).parents[0].joinpath(\"data\", \"Lead Scoring.csv\"))"
   ]
  },
  {
   "cell_type": "markdown",
   "metadata": {},
   "source": [
    "# General EDA\n",
    "\n",
    "Clearly, the goal of this exercise is to increase the conversion rate, making the `Converted` column our target variable.\n",
    "\n",
    "To get a clear picture of how variables might relate to one another, I will be using the `ProfileReport` function to create an HTML page summarizing distributions, correlations, and other measures."
   ]
  },
  {
   "cell_type": "code",
   "execution_count": null,
   "metadata": {},
   "outputs": [],
   "source": [
    "# Use ProfileReport to create HTML doc of general summary\n",
    "profile = ProfileReport(raw_data, title = \"Profiling Report\")\n",
    "profile.to_file(\"feature_eda.html\")"
   ]
  },
  {
   "cell_type": "code",
   "execution_count": null,
   "metadata": {},
   "outputs": [],
   "source": [
    "# Or run as follows:\n",
    "profile.to_notebook_iframe()"
   ]
  },
  {
   "cell_type": "code",
   "execution_count": 13,
   "metadata": {},
   "outputs": [
    {
     "name": "stdout",
     "output_type": "stream",
     "text": [
      "37 Columns, Names: Index(['Prospect ID', 'Lead Number', 'Lead Origin', 'Lead Source',\n",
      "       'Do Not Email', 'Do Not Call', 'Converted', 'TotalVisits',\n",
      "       'Total Time Spent on Website', 'Page Views Per Visit', 'Last Activity',\n",
      "       'Country', 'Specialization', 'How did you hear about X Education',\n",
      "       'What is your current occupation',\n",
      "       'What matters most to you in choosing a course', 'Search', 'Magazine',\n",
      "       'Newspaper Article', 'X Education Forums', 'Newspaper',\n",
      "       'Digital Advertisement', 'Through Recommendations',\n",
      "       'Receive More Updates About Our Courses', 'Tags', 'Lead Quality',\n",
      "       'Update me on Supply Chain Content', 'Get updates on DM Content',\n",
      "       'Lead Profile', 'City', 'Asymmetrique Activity Index',\n",
      "       'Asymmetrique Profile Index', 'Asymmetrique Activity Score',\n",
      "       'Asymmetrique Profile Score',\n",
      "       'I agree to pay the amount through cheque',\n",
      "       'A free copy of Mastering The Interview', 'Last Notable Activity'],\n",
      "      dtype='object')\n"
     ]
    }
   ],
   "source": [
    "print(f\"{len(raw_data.columns)} Columns, Names: {raw_data.columns}\")"
   ]
  },
  {
   "cell_type": "markdown",
   "metadata": {},
   "source": [
    "## `feature_eda.html` Analysis\n",
    "\n",
    "THe `ProfileReport` gives some great insights as a first pass. Our dataset contains 37 variables and 9240 observations. We see that `Prospect ID` and `Lead Number` are both keys for the dataset. The `Do Not Call` variable only has 2 true instances, making it an easy variable to remove in our modeling process. Our target variable `Converted` shows that about 38.5% of people in this dataset convert, slightly higher than the 30% mentioned in the prompt.\n",
    "\n",
    "### Questions\n",
    "\n",
    "- What does `Select` mean? Guessing that's the default answer asking someone to select an option?\n",
    "  - If so, probably can treat as `Missing` as well...\n",
    "\n",
    "### `Converted` Variable Info\n",
    "\n",
    "- 38.5% converted / 71.5% did not\n",
    "\n",
    "### Variables w/ High Correlation\n",
    "\n",
    "- `Total Time Spent on Website` (0.426)\n",
    "-  `Asymmetrique Activity Score` (0.419)\n",
    "- `Lead Quality` (0.659)\n",
    "- `Tags` (0.931)\n",
    "- `Last Activity` (0.396)\n",
    "- `Lead Source` (0.336)\n",
    "- `Lead Origin` (0.325)\n",
    "- `Current Occupation` (0.302)\n",
    "- `Lead Profile` (0.379)\n",
    "- `Last Notable Activity` (0.38)\n",
    "\n",
    "### Variables Maybe Needing Preprocessing (Grouping)\n",
    "\n",
    "- `Country`: 26.6% mssing, heavily favoring India, and all other countries are under 1%...\n",
    "- `City`(?): Missing 15.4%, but seems to only apply to people in India\n",
    "- `Last Notable Activity`: 16 total groups\n",
    "- `Lead Profile`: Missing 29.3% of data\n",
    "- `Lead Source`: Need to apply some data cleaning (EX: Google vs. google are treated differently)\n",
    "- `Lead Quality`: 51.6% missing!\n",
    "- `Tags`: 36.3% missing, many categories\n",
    "- `What is your current occupation`: 29.1% missing, majority are `unemployed`, and other categories (`Working Professional` and `Student`) make up 10% - others are very small in #s\n",
    "- `How did you hear about X Education`: 10 categories, 23.9% missing, most are `Select`\n",
    "- `Specialization`: 15.6% missing, 21% `Select`, >20 categories\n",
    "- `Last Activity`: >15 categories. However, many seem relevant (unsub, unreachable) - need to do more analysis\n",
    "- `Page Views Per Visit`(?): many 0s, maybe interesting to see relationships between 0 vs. non-0, or if numerical better\n",
    "\n",
    "\n",
    "\n",
    "### Variables to Remove\n",
    "\n",
    "In general, we can exclude 13 variables (shown below + why).\n",
    "\n",
    "- `I agree to pay the amount through cheque`: 1 value\n",
    "- `Get updates on DM Content`: 1 value\n",
    "- `Update me on Supply Chain Content`: 1 value\n",
    "- `Receive More Updates About Our Courses`: 1 value\n",
    "- `Through Recommendations`: only 7 Trues\n",
    "- `Digital Advertisement`: only 4 Trues\n",
    "- `Newspaper`: Only 1 True\n",
    "- `X Education Forums`: Only 1 True\n",
    "- `Newspaper Article`: only 2 true\n",
    "- `Magazine`: only 1 true\n",
    "- `Search`: Only 14 True\n",
    "- `What matters most to you in choosing a course`: Only 3 categories, but 2 have under 5 total obs\n",
    "- `Do Not Call`: only 2 Trues"
   ]
  },
  {
   "cell_type": "code",
   "execution_count": 21,
   "metadata": {},
   "outputs": [],
   "source": [
    "data = raw_data.copy()\n",
    "data = data.drop([\"I agree to pay the amount through cheque\",\n",
    "                  \"Get updates on DM Content\",\n",
    "                  \"Update me on Supply Chain Content\",\n",
    "                  \"Receive More Updates About Our Courses\",\n",
    "                  \"Through Recommendations\",\n",
    "                  \"Digital Advertisement\",\n",
    "                  \"Newspaper\",\n",
    "                  \"X Education Forums\",\n",
    "                  \"Newspaper Article\",\n",
    "                  \"Magazine\",\n",
    "                  \"Search\",\n",
    "                  \"What matters most to you in choosing a course\",\n",
    "                  \"Do Not Call\"], axis=1)"
   ]
  },
  {
   "cell_type": "markdown",
   "metadata": {},
   "source": [
    "## Variable Preprocessing\n",
    "\n",
    "Now, we'll be looking at the variables mentioned earlier that probably need preprocessing."
   ]
  },
  {
   "cell_type": "markdown",
   "metadata": {},
   "source": [
    "### "
   ]
  }
 ],
 "metadata": {
  "kernelspec": {
   "display_name": "venv",
   "language": "python",
   "name": "python3"
  },
  "language_info": {
   "codemirror_mode": {
    "name": "ipython",
    "version": 3
   },
   "file_extension": ".py",
   "mimetype": "text/x-python",
   "name": "python",
   "nbconvert_exporter": "python",
   "pygments_lexer": "ipython3",
   "version": "3.10.10"
  },
  "orig_nbformat": 4
 },
 "nbformat": 4,
 "nbformat_minor": 2
}
